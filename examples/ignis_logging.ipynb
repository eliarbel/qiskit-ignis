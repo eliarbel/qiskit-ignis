{
 "cells": [
  {
   "cell_type": "markdown",
   "metadata": {},
   "source": [
    "# Ignis Logging\n",
    "\n",
    "This tutorial shows how to use logging in Ignis. The purpose of Ignis logging is twofold:\n",
    "1. Log run-time events to the console.\n",
    "2. Log data of interest to a file. \n",
    "\n",
    "Ignis logging is based on [Python's logging package](https://docs.python.org/3/library/logging.html). There are 3 classes in the Ignis logging package: \n",
    "\n",
    "* **IgnisLogger** - Objects of this class are used for logging. The class is derived from the Logger class defined in the Python's logging package\n",
    "* **IgnisLogging** - A singleton class responsible for configuring logging behavior in Ignis as well as for creating and getting IgnisLogger objects.\n",
    "* **IgnisLogReader** - A class for reading file logs created by IgnisLogger objects. Support basic filtering capabilities. \n",
    "\n",
    "\n",
    "## Using IgnisLogger\n",
    "\n",
    "In this section we will see how to log data to console and files using IgnisLogger objects\n",
    "\n",
    "### Creating a logger object\n",
    "Console and file logging in Ignis is performed using an object of the class IgnisLogger. An object of the IgnisLogger class is essentialy a Logger object of the [Python's logging package](https://docs.python.org/3/library/logging.html), extended with a convenient file logging capability. \n",
    "\n",
    "Let's create such an object:"
   ]
  },
  {
   "cell_type": "code",
   "execution_count": 2,
   "metadata": {},
   "outputs": [
    {
     "ename": "ModuleNotFoundError",
     "evalue": "No module named 'qiskit'",
     "output_type": "error",
     "traceback": [
      "\u001b[0;31m---------------------------------------------------------------------------\u001b[0m",
      "\u001b[0;31mModuleNotFoundError\u001b[0m                       Traceback (most recent call last)",
      "\u001b[0;32m<ipython-input-2-45f69969165b>\u001b[0m in \u001b[0;36m<module>\u001b[0;34m\u001b[0m\n\u001b[0;32m----> 1\u001b[0;31m \u001b[0;32mimport\u001b[0m \u001b[0mqiskit\u001b[0m\u001b[0;34m.\u001b[0m\u001b[0mignis\u001b[0m\u001b[0;34m.\u001b[0m\u001b[0mlogging\u001b[0m\u001b[0;34m\u001b[0m\u001b[0;34m\u001b[0m\u001b[0m\n\u001b[0m\u001b[1;32m      2\u001b[0m \u001b[0;34m\u001b[0m\u001b[0m\n\u001b[1;32m      3\u001b[0m \u001b[0mlogger\u001b[0m \u001b[0;34m=\u001b[0m \u001b[0mIgnisLogging\u001b[0m\u001b[0;34m(\u001b[0m\u001b[0;34m)\u001b[0m\u001b[0;34m.\u001b[0m\u001b[0mget_logger\u001b[0m\u001b[0;34m(\u001b[0m\u001b[0m__name__\u001b[0m\u001b[0;34m)\u001b[0m\u001b[0;34m\u001b[0m\u001b[0;34m\u001b[0m\u001b[0m\n",
      "\u001b[0;31mModuleNotFoundError\u001b[0m: No module named 'qiskit'"
     ]
    }
   ],
   "source": [
    "import qiskit.ignis.logging\n",
    "\n",
    "logger = IgnisLogging().get_logger(__name__)"
   ]
  },
  {
   "cell_type": "markdown",
   "metadata": {},
   "source": [
    "You can see here the use of the IgnisLogging singleton class for getting an IgnisLogger object. The parameter for the _get_logger_ method give the logger a name. This name is used when messages are printed to the console, to identify the source file which the log was printed from. "
   ]
  },
  {
   "cell_type": "markdown",
   "metadata": {},
   "source": [
    "### Logging to console\n",
    "\n",
    "Logging to console using an _IgnisLogger_ object is identical to using [Python's logging package](https://docs.python.org/3/library/logging.html). For convenience, here are some examples:\n",
    "\n"
   ]
  },
  {
   "cell_type": "code",
   "execution_count": null,
   "metadata": {},
   "outputs": [],
   "source": []
  },
  {
   "cell_type": "markdown",
   "metadata": {},
   "source": [
    "### Logging to file\n",
    "\n",
    "Logging to file is carried out by using the _log_to_file_ method of the _IgnisLogger_ class. The method expect key-value pairs given as Python keyword parameters. Any number of key-value pairs can be given to the function. Each call to the _log_to_file_ method will result in a new line being stored to the log file. Each line contains a timestamp, an identifying and list of key-value pairs. Here are a few example:\n",
    "\n",
    "TODO:\n",
    "\n",
    "### Configuring the IgnisLogger\n",
    "\n",
    "Besides creating _IgnisLogger_ objects, the _IgnisLogger_ class is also used in order to configure the file logging aspects in Ignis.  The main aspects controlled by the _IgnisLogger_ class are:\n",
    "\n",
    "* Enabling/disabling file logging\n",
    "* Location of the log files\n",
    "* Miscellenous log file controls. \n",
    "\n",
    "\n",
    "\n",
    "\n",
    "## Reading logged data from file"
   ]
  }
 ],
 "metadata": {
  "kernelspec": {
   "display_name": "Python 3",
   "language": "python",
   "name": "python3"
  },
  "language_info": {
   "codemirror_mode": {
    "name": "ipython",
    "version": 3
   },
   "file_extension": ".py",
   "mimetype": "text/x-python",
   "name": "python",
   "nbconvert_exporter": "python",
   "pygments_lexer": "ipython3",
   "version": "3.7.1"
  }
 },
 "nbformat": 4,
 "nbformat_minor": 2
}
